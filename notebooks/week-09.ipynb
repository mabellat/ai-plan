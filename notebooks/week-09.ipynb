{
 "cells": [
  {
   "cell_type": "markdown",
   "id": "3ffb59ad",
   "metadata": {},
   "source": [
    "# Week 9 — Trees, Ensembles & Interpretability\n",
    "\n",
    "*Last updated:* 2025-09-09"
   ]
  },
  {
   "cell_type": "markdown",
   "id": "cee86089",
   "metadata": {},
   "source": [
    "## Objectives\n",
    "- [ ] Understand trees, ensembles & interpretability\n",
    "- [ ] Complete guided exercises (theory → code → evaluation)\n",
    "- [ ] Apply learning in a small project or lab\n",
    "- [ ] Reflect using self-assessment checklist"
   ]
  },
  {
   "cell_type": "markdown",
   "id": "bb12deb8",
   "metadata": {},
   "source": [
    "## Mini-Theory (Deep Dive)\n",
    "- CART, Random Forest, Gradient Boosting (XGBoost/LightGBM intuition)\n",
    "- Feature importances pitfalls; partial dependence; SHAP basics\n",
    "- When classical ensembles beat deep models"
   ]
  },
  {
   "cell_type": "markdown",
   "id": "07b86bd7",
   "metadata": {},
   "source": [
    "## Guided Exercises\n",
    "    The following exercises are structured to help you learn by doing. Each has **starter code**, **hints**, and **checks**."
   ]
  },
  {
   "cell_type": "code",
   "execution_count": null,
   "id": "ca62901c",
   "metadata": {},
   "outputs": [],
   "source": [
    "# Exercise: Train/validate a model with solid CV and leakage checks\n",
    "import numpy as np, pandas as pd\n",
    "from sklearn.model_selection import StratifiedKFold, cross_val_score\n",
    "from sklearn.preprocessing import StandardScaler\n",
    "from sklearn.pipeline import Pipeline\n",
    "from sklearn.linear_model import LogisticRegression\n",
    "\n",
    "# Synthetic demo dataset (replace with real dataset)\n",
    "X = np.random.randn(1000, 10)\n",
    "y = (X[:, 0] + 0.5*X[:, 1] > 0).astype(int)\n",
    "\n",
    "pipe = Pipeline([(\"scaler\", StandardScaler()), (\"clf\", LogisticRegression(max_iter=1000))])\n",
    "cv = StratifiedKFold(n_splits=5, shuffle=True, random_state=42)\n",
    "scores = cross_val_score(pipe, X, y, cv=cv, scoring=\"roc_auc\")\n",
    "print(\"ROC-AUC (5-fold):\", scores.mean(), \"+/-\", scores.std())\n",
    "# TODO: add calibration curve & threshold selection"
   ]
  },
  {
   "cell_type": "markdown",
   "id": "04c71f89",
   "metadata": {},
   "source": [
    "## Project Work\n",
    "- This week connects to: `projects/10-tabular-ml/README.md`\n",
    "- Implement the **Build** task described in the project README. Tie your notebook experiments into that code (e.g., import your module or save artifacts for the project).\n",
    "\n",
    "### Deliverable\n",
    "- A short write-up (5–10 bullets) on **what worked, what didn’t, and what you’ll try next**."
   ]
  },
  {
   "cell_type": "markdown",
   "id": "25f24817",
   "metadata": {},
   "source": [
    "## Self-Assessment Checklist\n",
    "- [ ] I can explain the key concepts of **Trees, Ensembles & Interpretability** in my own words.\n",
    "- [ ] I completed the guided exercises and validated outputs.\n",
    "- [ ] I produced a small artifact (code, plot, or report) and linked it to the project.\n",
    "- [ ] I captured 3–5 learnings and 2 next steps.\n",
    "\n",
    "---\n",
    "**Tip:** Keep each week to ~10 hours: ~3h study, ~3h coding, ~3h project, ~1h reflection."
   ]
  }
 ],
 "metadata": {},
 "nbformat": 4,
 "nbformat_minor": 5
}
