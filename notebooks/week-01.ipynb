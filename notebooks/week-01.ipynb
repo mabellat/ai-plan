{
 "cells": [
  {
   "cell_type": "markdown",
   "id": "9ff81b6f",
   "metadata": {},
   "source": [
    "# Week 1 — Advanced Python & Environment Setup\n",
    "\n",
    "*Last updated:* 2025-09-09"
   ]
  },
  {
   "cell_type": "markdown",
   "id": "4627c31d",
   "metadata": {},
   "source": [
    "## Objectives\n",
    "- [ ] Understand advanced python & environment setup\n",
    "- [ ] Complete guided exercises (theory → code → evaluation)\n",
    "- [ ] Apply learning in a small project or lab\n",
    "- [ ] Reflect using self-assessment checklist"
   ]
  },
  {
   "cell_type": "markdown",
   "id": "7414dac5",
   "metadata": {},
   "source": [
    "## Mini-Theory (Deep Dive)\n",
    "- Python packaging (src layout, pyproject.toml), virtualenv/uv/poetry basics\n",
    "- Typing (Protocol, TypedDict, ParamSpec, TypeVar, overload)\n",
    "- Tooling: ruff, black, mypy, pre-commit, pytest structure\n",
    "- CLI apps with `typer`; logging & structured logs\n",
    "- Reproducibility: seeds, determinism, `requirements.txt` vs `lock`"
   ]
  },
  {
   "cell_type": "markdown",
   "id": "9be83b64",
   "metadata": {},
   "source": [
    "## Guided Exercises\n",
    "    The following exercises are structured to help you learn by doing. Each has **starter code**, **hints**, and **checks**."
   ]
  },
  {
   "cell_type": "code",
   "execution_count": null,
   "id": "48f847d0",
   "metadata": {},
   "outputs": [],
   "source": [
    "# Exercise: Robust CLI skeleton with typer, logging, and testing hooks\n",
    "import typer, logging, time, pandas as pd\n",
    "\n",
    "app = typer.Typer()\n",
    "\n",
    "@app.command()\n",
    "def eda(path: str):\n",
    "    start = time.time()\n",
    "    df = pd.read_csv(path)\n",
    "    logging.basicConfig(level=logging.INFO)\n",
    "    logging.info({\"rows\": len(df), \"cols\": len(df.columns)})\n",
    "    # TODO: add summary stats, null counts, schema checks\n",
    "    print(df.describe(include=\"all\"))\n",
    "    print(f\"Elapsed: {time.time() - start:.3f}s\")\n",
    "\n",
    "if __name__ == \"__main__\":\n",
    "    app()"
   ]
  },
  {
   "cell_type": "markdown",
   "id": "a8ecc417",
   "metadata": {},
   "source": [
    "## Project Work\n",
    "- This week connects to: `projects/00-foundations-pca/README.md`\n",
    "- Implement the **Build** task described in the project README. Tie your notebook experiments into that code (e.g., import your module or save artifacts for the project).\n",
    "\n",
    "### Deliverable\n",
    "- A short write-up (5–10 bullets) on **what worked, what didn’t, and what you’ll try next**."
   ]
  },
  {
   "cell_type": "markdown",
   "id": "56f878a5",
   "metadata": {},
   "source": [
    "## Self-Assessment Checklist\n",
    "- [ ] I can explain the key concepts of **Advanced Python & Environment Setup** in my own words.\n",
    "- [ ] I completed the guided exercises and validated outputs.\n",
    "- [ ] I produced a small artifact (code, plot, or report) and linked it to the project.\n",
    "- [ ] I captured 3–5 learnings and 2 next steps.\n",
    "\n",
    "---\n",
    "**Tip:** Keep each week to ~10 hours: ~3h study, ~3h coding, ~3h project, ~1h reflection."
   ]
  }
 ],
 "metadata": {},
 "nbformat": 4,
 "nbformat_minor": 5
}
