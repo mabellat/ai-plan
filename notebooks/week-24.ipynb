{
 "cells": [
  {
   "cell_type": "markdown",
   "id": "03949c2d",
   "metadata": {},
   "source": [
    "# Week 24 — Safety & Alignment Fundamentals\n",
    "\n",
    "*Last updated:* 2025-09-09"
   ]
  },
  {
   "cell_type": "markdown",
   "id": "dcd0c568",
   "metadata": {},
   "source": [
    "## Objectives\n",
    "- [ ] Understand safety & alignment fundamentals\n",
    "- [ ] Complete guided exercises (theory → code → evaluation)\n",
    "- [ ] Apply learning in a small project or lab\n",
    "- [ ] Reflect using self-assessment checklist"
   ]
  },
  {
   "cell_type": "markdown",
   "id": "dcbc40e0",
   "metadata": {},
   "source": [
    "## Mini-Theory (Deep Dive)\n",
    "- Prompt injection, jailbreaks, data exfiltration\n",
    "- PII detection, safety filters, policy enforcement\n",
    "- Eval harness for toxicity/faithfulness"
   ]
  },
  {
   "cell_type": "markdown",
   "id": "3f726fc5",
   "metadata": {},
   "source": [
    "## Guided Exercises\n",
    "    The following exercises are structured to help you learn by doing. Each has **starter code**, **hints**, and **checks**."
   ]
  },
  {
   "cell_type": "code",
   "execution_count": null,
   "id": "5ee27811",
   "metadata": {},
   "outputs": [],
   "source": [
    "# Exercise: Tokenization or PEFT playground (choose)\n",
    "import torch\n",
    "def lora_update(W, A, B, alpha=1.0):\n",
    "    return W + alpha * (A @ B)\n",
    "W = torch.randn(64, 64); A = torch.randn(64, 4); B = torch.randn(4, 64)\n",
    "W_hat = lora_update(W, A, B, alpha=0.1)\n",
    "print(\"Delta norm:\", (W_hat - W).norm().item())\n",
    "# TODO: integrate into a tiny nn.Linear forward pass"
   ]
  },
  {
   "cell_type": "markdown",
   "id": "7d9bad0b",
   "metadata": {},
   "source": [
    "## Project Work\n",
    "- This week connects to: `syllabus/phase-04-nlp-llms.md`\n",
    "- Implement the **Build** task described in the project README. Tie your notebook experiments into that code (e.g., import your module or save artifacts for the project).\n",
    "\n",
    "### Deliverable\n",
    "- A short write-up (5–10 bullets) on **what worked, what didn’t, and what you’ll try next**."
   ]
  },
  {
   "cell_type": "markdown",
   "id": "31271108",
   "metadata": {},
   "source": [
    "## Self-Assessment Checklist\n",
    "- [ ] I can explain the key concepts of **Safety & Alignment Fundamentals** in my own words.\n",
    "- [ ] I completed the guided exercises and validated outputs.\n",
    "- [ ] I produced a small artifact (code, plot, or report) and linked it to the project.\n",
    "- [ ] I captured 3–5 learnings and 2 next steps.\n",
    "\n",
    "---\n",
    "**Tip:** Keep each week to ~10 hours: ~3h study, ~3h coding, ~3h project, ~1h reflection."
   ]
  }
 ],
 "metadata": {},
 "nbformat": 4,
 "nbformat_minor": 5
}
