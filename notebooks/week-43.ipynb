{
 "cells": [
  {
   "cell_type": "markdown",
   "id": "d75ffc5e",
   "metadata": {},
   "source": [
    "# Week 43 — Agent Safety & Guardrails\n",
    "\n",
    "*Last updated:* 2025-09-09"
   ]
  },
  {
   "cell_type": "markdown",
   "id": "c4e051b3",
   "metadata": {},
   "source": [
    "## Objectives\n",
    "- [ ] Understand agent safety & guardrails\n",
    "- [ ] Complete guided exercises (theory → code → evaluation)\n",
    "- [ ] Apply learning in a small project or lab\n",
    "- [ ] Reflect using self-assessment checklist"
   ]
  },
  {
   "cell_type": "markdown",
   "id": "528007d1",
   "metadata": {},
   "source": [
    "## Mini-Theory (Deep Dive)\n",
    "- Capability whitelists; rate limits; cost caps\n",
    "- Red-teaming transcripts; incident drills"
   ]
  },
  {
   "cell_type": "markdown",
   "id": "5e650a5d",
   "metadata": {},
   "source": [
    "## Guided Exercises\n",
    "    The following exercises are structured to help you learn by doing. Each has **starter code**, **hints**, and **checks**."
   ]
  },
  {
   "cell_type": "code",
   "execution_count": null,
   "id": "a2f9f3ed",
   "metadata": {},
   "outputs": [],
   "source": [
    "# Exercise: ReAct loop sketch with a calculator tool\n",
    "from typing import Callable\n",
    "class Tool:\n",
    "    def __init__(self, name, fn: Callable[[str], str]): self.name, self.fn = name, fn\n",
    "def calculator(expr: str) -> str:\n",
    "    try: return str(eval(expr, {\"__builtins__\": {}}, {}))\n",
    "    except Exception as e: return f\"error: {e}\"\n",
    "tools = {\"calculator\": Tool(\"calculator\", calculator)}\n",
    "\n",
    "def dummy_llm(prompt: str) -> str:\n",
    "    return \"TOOL[calculator]: 2+2\" if \"2+2\" in prompt else \"FINAL: done\"\n",
    "\n",
    "scratch = []\n",
    "thought = dummy_llm(\"compute 2+2\")\n",
    "if thought.startswith(\"TOOL[calculator]\"):\n",
    "    out = tools[\"calculator\"].fn(\"2+2\")\n",
    "    scratch.append({\"tool\":\"calculator\",\"out\":out})\n",
    "print(\"Scratch:\", scratch)\n",
    "# TODO: Turn into iterative ReAct agent with stop conditions"
   ]
  },
  {
   "cell_type": "markdown",
   "id": "c899e7ec",
   "metadata": {},
   "source": [
    "## Project Work\n",
    "- This week connects to: `projects/44-production-agent/README.md`\n",
    "- Implement the **Build** task described in the project README. Tie your notebook experiments into that code (e.g., import your module or save artifacts for the project).\n",
    "\n",
    "### Deliverable\n",
    "- A short write-up (5–10 bullets) on **what worked, what didn’t, and what you’ll try next**."
   ]
  },
  {
   "cell_type": "markdown",
   "id": "dd94442b",
   "metadata": {},
   "source": [
    "## Self-Assessment Checklist\n",
    "- [ ] I can explain the key concepts of **Agent Safety & Guardrails** in my own words.\n",
    "- [ ] I completed the guided exercises and validated outputs.\n",
    "- [ ] I produced a small artifact (code, plot, or report) and linked it to the project.\n",
    "- [ ] I captured 3–5 learnings and 2 next steps.\n",
    "\n",
    "---\n",
    "**Tip:** Keep each week to ~10 hours: ~3h study, ~3h coding, ~3h project, ~1h reflection."
   ]
  }
 ],
 "metadata": {},
 "nbformat": 4,
 "nbformat_minor": 5
}
