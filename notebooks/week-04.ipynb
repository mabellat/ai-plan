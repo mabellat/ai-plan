{
 "cells": [
  {
   "cell_type": "markdown",
   "id": "cdae5d0d",
   "metadata": {},
   "source": [
    "# Week 4 — Optimization Foundations\n",
    "\n",
    "*Last updated:* 2025-09-09"
   ]
  },
  {
   "cell_type": "markdown",
   "id": "cd89157c",
   "metadata": {},
   "source": [
    "## Objectives\n",
    "- [ ] Understand optimization foundations\n",
    "- [ ] Complete guided exercises (theory → code → evaluation)\n",
    "- [ ] Apply learning in a small project or lab\n",
    "- [ ] Reflect using self-assessment checklist"
   ]
  },
  {
   "cell_type": "markdown",
   "id": "30ea0baa",
   "metadata": {},
   "source": [
    "## Mini-Theory (Deep Dive)\n",
    "- Gradients, Jacobians, Hessians; chain rule; autodiff overview\n",
    "- Convexity, strong convexity; L1/L2; proximal gradient at a glance\n",
    "- Line search, momentum; step-size schedules\n",
    "- Conditioning and feature scaling; normalization/standardization"
   ]
  },
  {
   "cell_type": "markdown",
   "id": "3cbecbbe",
   "metadata": {},
   "source": [
    "## Guided Exercises\n",
    "    The following exercises are structured to help you learn by doing. Each has **starter code**, **hints**, and **checks**."
   ]
  },
  {
   "cell_type": "code",
   "execution_count": null,
   "id": "3b6a8676",
   "metadata": {},
   "outputs": [],
   "source": [
    "# Exercise: Robust CLI skeleton with typer, logging, and testing hooks\n",
    "import typer, logging, time, pandas as pd\n",
    "\n",
    "app = typer.Typer()\n",
    "\n",
    "@app.command()\n",
    "def eda(path: str):\n",
    "    start = time.time()\n",
    "    df = pd.read_csv(path)\n",
    "    logging.basicConfig(level=logging.INFO)\n",
    "    logging.info({\"rows\": len(df), \"cols\": len(df.columns)})\n",
    "    # TODO: add summary stats, null counts, schema checks\n",
    "    print(df.describe(include=\"all\"))\n",
    "    print(f\"Elapsed: {time.time() - start:.3f}s\")\n",
    "\n",
    "if __name__ == \"__main__\":\n",
    "    app()"
   ]
  },
  {
   "cell_type": "markdown",
   "id": "7f39695f",
   "metadata": {},
   "source": [
    "## Project Work\n",
    "- This week connects to: `projects/10-tabular-ml/README.md`\n",
    "- Implement the **Build** task described in the project README. Tie your notebook experiments into that code (e.g., import your module or save artifacts for the project).\n",
    "\n",
    "### Deliverable\n",
    "- A short write-up (5–10 bullets) on **what worked, what didn’t, and what you’ll try next**."
   ]
  },
  {
   "cell_type": "markdown",
   "id": "eb8451f0",
   "metadata": {},
   "source": [
    "## Self-Assessment Checklist\n",
    "- [ ] I can explain the key concepts of **Optimization Foundations** in my own words.\n",
    "- [ ] I completed the guided exercises and validated outputs.\n",
    "- [ ] I produced a small artifact (code, plot, or report) and linked it to the project.\n",
    "- [ ] I captured 3–5 learnings and 2 next steps.\n",
    "\n",
    "---\n",
    "**Tip:** Keep each week to ~10 hours: ~3h study, ~3h coding, ~3h project, ~1h reflection."
   ]
  }
 ],
 "metadata": {},
 "nbformat": 4,
 "nbformat_minor": 5
}
