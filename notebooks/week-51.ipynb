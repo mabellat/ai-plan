{
 "cells": [
  {
   "cell_type": "markdown",
   "id": "c29d22a8",
   "metadata": {},
   "source": [
    "# Week 51 — Executive Comms & Tech Strategy\n",
    "\n",
    "*Last updated:* 2025-09-09"
   ]
  },
  {
   "cell_type": "markdown",
   "id": "2a6ef6db",
   "metadata": {},
   "source": [
    "## Objectives\n",
    "- [ ] Understand executive comms & tech strategy\n",
    "- [ ] Complete guided exercises (theory → code → evaluation)\n",
    "- [ ] Apply learning in a small project or lab\n",
    "- [ ] Reflect using self-assessment checklist"
   ]
  },
  {
   "cell_type": "markdown",
   "id": "49bce603",
   "metadata": {},
   "source": [
    "## Mini-Theory (Deep Dive)\n",
    "- One-pagers; decision logs; north-star metrics\n",
    "- Multi-quarter roadmap; portfolio thinking"
   ]
  },
  {
   "cell_type": "markdown",
   "id": "ee763e84",
   "metadata": {},
   "source": [
    "## Guided Exercises\n",
    "    The following exercises are structured to help you learn by doing. Each has **starter code**, **hints**, and **checks**."
   ]
  },
  {
   "cell_type": "code",
   "execution_count": null,
   "id": "fb74cbc1",
   "metadata": {},
   "outputs": [],
   "source": [
    "# Exercise: Build an actionable plan doc generator (markdown) for your capstone\n",
    "from datetime import date\n",
    "template = f\"\"\"# Capstone Plan\n",
    "Date: {date.today().isoformat()}\n",
    "\n",
    "## Objective\n",
    "<define your objective>\n",
    "\n",
    "## Milestones\n",
    "- [ ] MVP\n",
    "- [ ] Observability & evals\n",
    "- [ ] Safety & governance\n",
    "- [ ] Rollout & on-call\n",
    "\n",
    "## Risks & Mitigations\n",
    "- Risk: ...\n",
    "- Mitigation: ...\n",
    "\n",
    "## Metrics\n",
    "- Quality: ...\n",
    "- Latency p95: ...\n",
    "- Cost/day: ...\n",
    "\"\"\"\n",
    "print(template)"
   ]
  },
  {
   "cell_type": "markdown",
   "id": "fb367c99",
   "metadata": {},
   "source": [
    "## Project Work\n",
    "- This week connects to: `syllabus/phase-08-principal-engineer.md`\n",
    "- Implement the **Build** task described in the project README. Tie your notebook experiments into that code (e.g., import your module or save artifacts for the project).\n",
    "\n",
    "### Deliverable\n",
    "- A short write-up (5–10 bullets) on **what worked, what didn’t, and what you’ll try next**."
   ]
  },
  {
   "cell_type": "markdown",
   "id": "67ddd737",
   "metadata": {},
   "source": [
    "## Self-Assessment Checklist\n",
    "- [ ] I can explain the key concepts of **Executive Comms & Tech Strategy** in my own words.\n",
    "- [ ] I completed the guided exercises and validated outputs.\n",
    "- [ ] I produced a small artifact (code, plot, or report) and linked it to the project.\n",
    "- [ ] I captured 3–5 learnings and 2 next steps.\n",
    "\n",
    "---\n",
    "**Tip:** Keep each week to ~10 hours: ~3h study, ~3h coding, ~3h project, ~1h reflection."
   ]
  }
 ],
 "metadata": {},
 "nbformat": 4,
 "nbformat_minor": 5
}
