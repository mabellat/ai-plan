{
 "cells": [
  {
   "cell_type": "markdown",
   "id": "45a19f55",
   "metadata": {},
   "source": [
    "# Week 41 — Multi-Agent Systems\n",
    "\n",
    "*Last updated:* 2025-09-09"
   ]
  },
  {
   "cell_type": "markdown",
   "id": "f78ee9bc",
   "metadata": {},
   "source": [
    "## Objectives\n",
    "- [ ] Understand multi-agent systems\n",
    "- [ ] Complete guided exercises (theory → code → evaluation)\n",
    "- [ ] Apply learning in a small project or lab\n",
    "- [ ] Reflect using self-assessment checklist"
   ]
  },
  {
   "cell_type": "markdown",
   "id": "16ff81b8",
   "metadata": {},
   "source": [
    "## Mini-Theory (Deep Dive)\n",
    "- Roles, protocols, blackboard/bus\n",
    "- Collaboration vs competition; emergent behavior"
   ]
  },
  {
   "cell_type": "markdown",
   "id": "823d2f92",
   "metadata": {},
   "source": [
    "## Guided Exercises\n",
    "    The following exercises are structured to help you learn by doing. Each has **starter code**, **hints**, and **checks**."
   ]
  },
  {
   "cell_type": "code",
   "execution_count": null,
   "id": "a01e0631",
   "metadata": {},
   "outputs": [],
   "source": [
    "# Exercise: ReAct loop sketch with a calculator tool\n",
    "from typing import Callable\n",
    "class Tool:\n",
    "    def __init__(self, name, fn: Callable[[str], str]): self.name, self.fn = name, fn\n",
    "def calculator(expr: str) -> str:\n",
    "    try: return str(eval(expr, {\"__builtins__\": {}}, {}))\n",
    "    except Exception as e: return f\"error: {e}\"\n",
    "tools = {\"calculator\": Tool(\"calculator\", calculator)}\n",
    "\n",
    "def dummy_llm(prompt: str) -> str:\n",
    "    return \"TOOL[calculator]: 2+2\" if \"2+2\" in prompt else \"FINAL: done\"\n",
    "\n",
    "scratch = []\n",
    "thought = dummy_llm(\"compute 2+2\")\n",
    "if thought.startswith(\"TOOL[calculator]\"):\n",
    "    out = tools[\"calculator\"].fn(\"2+2\")\n",
    "    scratch.append({\"tool\":\"calculator\",\"out\":out})\n",
    "print(\"Scratch:\", scratch)\n",
    "# TODO: Turn into iterative ReAct agent with stop conditions"
   ]
  },
  {
   "cell_type": "markdown",
   "id": "df1017c8",
   "metadata": {},
   "source": [
    "## Project Work\n",
    "- This week connects to: `projects/44-production-agent/README.md`\n",
    "- Implement the **Build** task described in the project README. Tie your notebook experiments into that code (e.g., import your module or save artifacts for the project).\n",
    "\n",
    "### Deliverable\n",
    "- A short write-up (5–10 bullets) on **what worked, what didn’t, and what you’ll try next**."
   ]
  },
  {
   "cell_type": "markdown",
   "id": "2691bd27",
   "metadata": {},
   "source": [
    "## Self-Assessment Checklist\n",
    "- [ ] I can explain the key concepts of **Multi-Agent Systems** in my own words.\n",
    "- [ ] I completed the guided exercises and validated outputs.\n",
    "- [ ] I produced a small artifact (code, plot, or report) and linked it to the project.\n",
    "- [ ] I captured 3–5 learnings and 2 next steps.\n",
    "\n",
    "---\n",
    "**Tip:** Keep each week to ~10 hours: ~3h study, ~3h coding, ~3h project, ~1h reflection."
   ]
  }
 ],
 "metadata": {},
 "nbformat": 4,
 "nbformat_minor": 5
}
