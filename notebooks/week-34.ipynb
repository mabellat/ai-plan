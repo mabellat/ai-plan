{
 "cells": [
  {
   "cell_type": "markdown",
   "id": "c511d043",
   "metadata": {},
   "source": [
    "# Week 34 — Observability for LLM Systems\n",
    "\n",
    "*Last updated:* 2025-09-09"
   ]
  },
  {
   "cell_type": "markdown",
   "id": "a4cc5895",
   "metadata": {},
   "source": [
    "## Objectives\n",
    "- [ ] Understand observability for llm systems\n",
    "- [ ] Complete guided exercises (theory → code → evaluation)\n",
    "- [ ] Apply learning in a small project or lab\n",
    "- [ ] Reflect using self-assessment checklist"
   ]
  },
  {
   "cell_type": "markdown",
   "id": "0778e7cd",
   "metadata": {},
   "source": [
    "## Mini-Theory (Deep Dive)\n",
    "- Traces, token metrics, prompt drift\n",
    "- p95/p99 latency; SLOs & SLIs; cost budgets"
   ]
  },
  {
   "cell_type": "markdown",
   "id": "d8878f9b",
   "metadata": {},
   "source": [
    "## Guided Exercises\n",
    "    The following exercises are structured to help you learn by doing. Each has **starter code**, **hints**, and **checks**."
   ]
  },
  {
   "cell_type": "code",
   "execution_count": null,
   "id": "498d7f61",
   "metadata": {},
   "outputs": [],
   "source": [
    "# Exercise: Wire up MLflow tracking for a small experiment\n",
    "# NOTE: If MLflow isn't installed in this environment, run `pip install mlflow` locally.\n",
    "try:\n",
    "    import mlflow, random, time\n",
    "    mlflow.set_experiment(\"demo\")\n",
    "    with mlflow.start_run():\n",
    "        lr = 10**random.uniform(-4, -2)\n",
    "        epochs = 5\n",
    "        mlflow.log_params({\"lr\": lr, \"epochs\": epochs})\n",
    "        for e in range(epochs):\n",
    "            metric = 1.0/(e+1) + random.random()*0.01\n",
    "            mlflow.log_metric(\"val_loss\", metric, step=e)\n",
    "            time.sleep(0.05)\n",
    "    print(\"Logged run. Open MLflow UI to inspect.\")\n",
    "except Exception as e:\n",
    "    print(\"Note: install mlflow in your local env to run this cell. Error:\", e)"
   ]
  },
  {
   "cell_type": "markdown",
   "id": "2a2d3da0",
   "metadata": {},
   "source": [
    "## Project Work\n",
    "- This week connects to: `syllabus/phase-06-systems-mlops.md`\n",
    "- Implement the **Build** task described in the project README. Tie your notebook experiments into that code (e.g., import your module or save artifacts for the project).\n",
    "\n",
    "### Deliverable\n",
    "- A short write-up (5–10 bullets) on **what worked, what didn’t, and what you’ll try next**."
   ]
  },
  {
   "cell_type": "markdown",
   "id": "acf34478",
   "metadata": {},
   "source": [
    "## Self-Assessment Checklist\n",
    "- [ ] I can explain the key concepts of **Observability for LLM Systems** in my own words.\n",
    "- [ ] I completed the guided exercises and validated outputs.\n",
    "- [ ] I produced a small artifact (code, plot, or report) and linked it to the project.\n",
    "- [ ] I captured 3–5 learnings and 2 next steps.\n",
    "\n",
    "---\n",
    "**Tip:** Keep each week to ~10 hours: ~3h study, ~3h coding, ~3h project, ~1h reflection."
   ]
  }
 ],
 "metadata": {},
 "nbformat": 4,
 "nbformat_minor": 5
}
