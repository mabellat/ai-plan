{
 "cells": [
  {
   "cell_type": "markdown",
   "id": "a826c1a4",
   "metadata": {},
   "source": [
    "# Week 31 — Experiment Tracking & Taxonomy\n",
    "\n",
    "*Last updated:* 2025-09-09"
   ]
  },
  {
   "cell_type": "markdown",
   "id": "b1dc68e7",
   "metadata": {},
   "source": [
    "## Objectives\n",
    "- [ ] Understand experiment tracking & taxonomy\n",
    "- [ ] Complete guided exercises (theory → code → evaluation)\n",
    "- [ ] Apply learning in a small project or lab\n",
    "- [ ] Reflect using self-assessment checklist"
   ]
  },
  {
   "cell_type": "markdown",
   "id": "4c035d2c",
   "metadata": {},
   "source": [
    "## Mini-Theory (Deep Dive)\n",
    "- MLflow tracking; metrics/params/artifacts\n",
    "- Naming conventions; lineage; DVC integration"
   ]
  },
  {
   "cell_type": "markdown",
   "id": "aee476cb",
   "metadata": {},
   "source": [
    "## Guided Exercises\n",
    "    The following exercises are structured to help you learn by doing. Each has **starter code**, **hints**, and **checks**."
   ]
  },
  {
   "cell_type": "code",
   "execution_count": null,
   "id": "4d7c86d4",
   "metadata": {},
   "outputs": [],
   "source": [
    "# Exercise: Wire up MLflow tracking for a small experiment\n",
    "# NOTE: If MLflow isn't installed in this environment, run `pip install mlflow` locally.\n",
    "try:\n",
    "    import mlflow, random, time\n",
    "    mlflow.set_experiment(\"demo\")\n",
    "    with mlflow.start_run():\n",
    "        lr = 10**random.uniform(-4, -2)\n",
    "        epochs = 5\n",
    "        mlflow.log_params({\"lr\": lr, \"epochs\": epochs})\n",
    "        for e in range(epochs):\n",
    "            metric = 1.0/(e+1) + random.random()*0.01\n",
    "            mlflow.log_metric(\"val_loss\", metric, step=e)\n",
    "            time.sleep(0.05)\n",
    "    print(\"Logged run. Open MLflow UI to inspect.\")\n",
    "except Exception as e:\n",
    "    print(\"Note: install mlflow in your local env to run this cell. Error:\", e)"
   ]
  },
  {
   "cell_type": "markdown",
   "id": "f5fd3713",
   "metadata": {},
   "source": [
    "## Project Work\n",
    "- This week connects to: `syllabus/phase-06-systems-mlops.md`\n",
    "- Implement the **Build** task described in the project README. Tie your notebook experiments into that code (e.g., import your module or save artifacts for the project).\n",
    "\n",
    "### Deliverable\n",
    "- A short write-up (5–10 bullets) on **what worked, what didn’t, and what you’ll try next**."
   ]
  },
  {
   "cell_type": "markdown",
   "id": "52d6166c",
   "metadata": {},
   "source": [
    "## Self-Assessment Checklist\n",
    "- [ ] I can explain the key concepts of **Experiment Tracking & Taxonomy** in my own words.\n",
    "- [ ] I completed the guided exercises and validated outputs.\n",
    "- [ ] I produced a small artifact (code, plot, or report) and linked it to the project.\n",
    "- [ ] I captured 3–5 learnings and 2 next steps.\n",
    "\n",
    "---\n",
    "**Tip:** Keep each week to ~10 hours: ~3h study, ~3h coding, ~3h project, ~1h reflection."
   ]
  }
 ],
 "metadata": {},
 "nbformat": 4,
 "nbformat_minor": 5
}
