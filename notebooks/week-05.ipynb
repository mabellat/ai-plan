{
 "cells": [
  {
   "cell_type": "markdown",
   "id": "c6c6dbd1",
   "metadata": {},
   "source": [
    "# Week 5 — Python Internals, Performance & Async\n",
    "\n",
    "*Last updated:* 2025-09-09"
   ]
  },
  {
   "cell_type": "markdown",
   "id": "983839d6",
   "metadata": {},
   "source": [
    "## Objectives\n",
    "- [ ] Understand python internals, performance & async\n",
    "- [ ] Complete guided exercises (theory → code → evaluation)\n",
    "- [ ] Apply learning in a small project or lab\n",
    "- [ ] Reflect using self-assessment checklist"
   ]
  },
  {
   "cell_type": "markdown",
   "id": "e335af5f",
   "metadata": {},
   "source": [
    "## Mini-Theory (Deep Dive)\n",
    "- CPython eval loop, GIL basics; vectorization vs Python loops\n",
    "- Profiling: cProfile, line_profiler; memory profiling\n",
    "- Concurrency: threading vs multiprocessing vs asyncio; task cancellation\n",
    "- Caching & memoization; functools.lru_cache; data classes vs pydantic"
   ]
  },
  {
   "cell_type": "markdown",
   "id": "db726eef",
   "metadata": {},
   "source": [
    "## Guided Exercises\n",
    "    The following exercises are structured to help you learn by doing. Each has **starter code**, **hints**, and **checks**."
   ]
  },
  {
   "cell_type": "code",
   "execution_count": null,
   "id": "fcf8575a",
   "metadata": {},
   "outputs": [],
   "source": [
    "# Exercise: Robust CLI skeleton with typer, logging, and testing hooks\n",
    "import typer, logging, time, pandas as pd\n",
    "\n",
    "app = typer.Typer()\n",
    "\n",
    "@app.command()\n",
    "def eda(path: str):\n",
    "    start = time.time()\n",
    "    df = pd.read_csv(path)\n",
    "    logging.basicConfig(level=logging.INFO)\n",
    "    logging.info({\"rows\": len(df), \"cols\": len(df.columns)})\n",
    "    # TODO: add summary stats, null counts, schema checks\n",
    "    print(df.describe(include=\"all\"))\n",
    "    print(f\"Elapsed: {time.time() - start:.3f}s\")\n",
    "\n",
    "if __name__ == \"__main__\":\n",
    "    app()"
   ]
  },
  {
   "cell_type": "markdown",
   "id": "d0999098",
   "metadata": {},
   "source": [
    "## Project Work\n",
    "- This week connects to: `projects/10-tabular-ml/README.md`\n",
    "- Implement the **Build** task described in the project README. Tie your notebook experiments into that code (e.g., import your module or save artifacts for the project).\n",
    "\n",
    "### Deliverable\n",
    "- A short write-up (5–10 bullets) on **what worked, what didn’t, and what you’ll try next**."
   ]
  },
  {
   "cell_type": "markdown",
   "id": "fe0ea6c8",
   "metadata": {},
   "source": [
    "## Self-Assessment Checklist\n",
    "- [ ] I can explain the key concepts of **Python Internals, Performance & Async** in my own words.\n",
    "- [ ] I completed the guided exercises and validated outputs.\n",
    "- [ ] I produced a small artifact (code, plot, or report) and linked it to the project.\n",
    "- [ ] I captured 3–5 learnings and 2 next steps.\n",
    "\n",
    "---\n",
    "**Tip:** Keep each week to ~10 hours: ~3h study, ~3h coding, ~3h project, ~1h reflection."
   ]
  }
 ],
 "metadata": {},
 "nbformat": 4,
 "nbformat_minor": 5
}
