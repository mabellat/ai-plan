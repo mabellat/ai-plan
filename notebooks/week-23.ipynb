{
 "cells": [
  {
   "cell_type": "markdown",
   "id": "d335e533",
   "metadata": {},
   "source": [
    "# Week 23 — RAG Retrieval & Reranking\n",
    "\n",
    "*Last updated:* 2025-09-09"
   ]
  },
  {
   "cell_type": "markdown",
   "id": "9a377a46",
   "metadata": {},
   "source": [
    "## Objectives\n",
    "- [ ] Understand rag retrieval & reranking\n",
    "- [ ] Complete guided exercises (theory → code → evaluation)\n",
    "- [ ] Apply learning in a small project or lab\n",
    "- [ ] Reflect using self-assessment checklist"
   ]
  },
  {
   "cell_type": "markdown",
   "id": "5be73829",
   "metadata": {},
   "source": [
    "## Mini-Theory (Deep Dive)\n",
    "- Dense vs hybrid search; query rewriting; rerankers\n",
    "- Evaluating retrieval: recall@k, MRR\n",
    "- Answer faithfulness & grounding"
   ]
  },
  {
   "cell_type": "markdown",
   "id": "06e4c756",
   "metadata": {},
   "source": [
    "## Guided Exercises\n",
    "    The following exercises are structured to help you learn by doing. Each has **starter code**, **hints**, and **checks**."
   ]
  },
  {
   "cell_type": "code",
   "execution_count": null,
   "id": "2c93562c",
   "metadata": {},
   "outputs": [],
   "source": [
    "# Exercise: Tokenization or PEFT playground (choose)\n",
    "import torch\n",
    "def lora_update(W, A, B, alpha=1.0):\n",
    "    return W + alpha * (A @ B)\n",
    "W = torch.randn(64, 64); A = torch.randn(64, 4); B = torch.randn(4, 64)\n",
    "W_hat = lora_update(W, A, B, alpha=0.1)\n",
    "print(\"Delta norm:\", (W_hat - W).norm().item())\n",
    "# TODO: integrate into a tiny nn.Linear forward pass"
   ]
  },
  {
   "cell_type": "markdown",
   "id": "5c9ab6a6",
   "metadata": {},
   "source": [
    "## Project Work\n",
    "- This week connects to: `projects/22-rag-system/README.md`\n",
    "- Implement the **Build** task described in the project README. Tie your notebook experiments into that code (e.g., import your module or save artifacts for the project).\n",
    "\n",
    "### Deliverable\n",
    "- A short write-up (5–10 bullets) on **what worked, what didn’t, and what you’ll try next**."
   ]
  },
  {
   "cell_type": "markdown",
   "id": "b7e14aa7",
   "metadata": {},
   "source": [
    "## Self-Assessment Checklist\n",
    "- [ ] I can explain the key concepts of **RAG Retrieval & Reranking** in my own words.\n",
    "- [ ] I completed the guided exercises and validated outputs.\n",
    "- [ ] I produced a small artifact (code, plot, or report) and linked it to the project.\n",
    "- [ ] I captured 3–5 learnings and 2 next steps.\n",
    "\n",
    "---\n",
    "**Tip:** Keep each week to ~10 hours: ~3h study, ~3h coding, ~3h project, ~1h reflection."
   ]
  }
 ],
 "metadata": {},
 "nbformat": 4,
 "nbformat_minor": 5
}
