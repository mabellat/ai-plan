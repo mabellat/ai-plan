{
 "cells": [
  {
   "cell_type": "markdown",
   "id": "a8189088",
   "metadata": {},
   "source": [
    "# Week 42 — Orchestration with LangGraph/State Machines\n",
    "\n",
    "*Last updated:* 2025-09-09"
   ]
  },
  {
   "cell_type": "markdown",
   "id": "1bce7705",
   "metadata": {},
   "source": [
    "## Objectives\n",
    "- [ ] Understand orchestration with langgraph/state machines\n",
    "- [ ] Complete guided exercises (theory → code → evaluation)\n",
    "- [ ] Apply learning in a small project or lab\n",
    "- [ ] Reflect using self-assessment checklist"
   ]
  },
  {
   "cell_type": "markdown",
   "id": "2f3bf832",
   "metadata": {},
   "source": [
    "## Mini-Theory (Deep Dive)\n",
    "- State machines; retries; compensation\n",
    "- Robust scheduling & circuit breakers"
   ]
  },
  {
   "cell_type": "markdown",
   "id": "c25aa8e8",
   "metadata": {},
   "source": [
    "## Guided Exercises\n",
    "    The following exercises are structured to help you learn by doing. Each has **starter code**, **hints**, and **checks**."
   ]
  },
  {
   "cell_type": "code",
   "execution_count": null,
   "id": "ca0a7ee7",
   "metadata": {},
   "outputs": [],
   "source": [
    "# Exercise: ReAct loop sketch with a calculator tool\n",
    "from typing import Callable\n",
    "class Tool:\n",
    "    def __init__(self, name, fn: Callable[[str], str]): self.name, self.fn = name, fn\n",
    "def calculator(expr: str) -> str:\n",
    "    try: return str(eval(expr, {\"__builtins__\": {}}, {}))\n",
    "    except Exception as e: return f\"error: {e}\"\n",
    "tools = {\"calculator\": Tool(\"calculator\", calculator)}\n",
    "\n",
    "def dummy_llm(prompt: str) -> str:\n",
    "    return \"TOOL[calculator]: 2+2\" if \"2+2\" in prompt else \"FINAL: done\"\n",
    "\n",
    "scratch = []\n",
    "thought = dummy_llm(\"compute 2+2\")\n",
    "if thought.startswith(\"TOOL[calculator]\"):\n",
    "    out = tools[\"calculator\"].fn(\"2+2\")\n",
    "    scratch.append({\"tool\":\"calculator\",\"out\":out})\n",
    "print(\"Scratch:\", scratch)\n",
    "# TODO: Turn into iterative ReAct agent with stop conditions"
   ]
  },
  {
   "cell_type": "markdown",
   "id": "cdc4de12",
   "metadata": {},
   "source": [
    "## Project Work\n",
    "- This week connects to: `projects/44-production-agent/README.md`\n",
    "- Implement the **Build** task described in the project README. Tie your notebook experiments into that code (e.g., import your module or save artifacts for the project).\n",
    "\n",
    "### Deliverable\n",
    "- A short write-up (5–10 bullets) on **what worked, what didn’t, and what you’ll try next**."
   ]
  },
  {
   "cell_type": "markdown",
   "id": "66c16294",
   "metadata": {},
   "source": [
    "## Self-Assessment Checklist\n",
    "- [ ] I can explain the key concepts of **Orchestration with LangGraph/State Machines** in my own words.\n",
    "- [ ] I completed the guided exercises and validated outputs.\n",
    "- [ ] I produced a small artifact (code, plot, or report) and linked it to the project.\n",
    "- [ ] I captured 3–5 learnings and 2 next steps.\n",
    "\n",
    "---\n",
    "**Tip:** Keep each week to ~10 hours: ~3h study, ~3h coding, ~3h project, ~1h reflection."
   ]
  }
 ],
 "metadata": {},
 "nbformat": 4,
 "nbformat_minor": 5
}
