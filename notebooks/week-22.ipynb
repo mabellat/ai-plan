{
 "cells": [
  {
   "cell_type": "markdown",
   "id": "ff0e2806",
   "metadata": {},
   "source": [
    "# Week 22 — RAG Fundamentals: Indexing & Chunking\n",
    "\n",
    "*Last updated:* 2025-09-09"
   ]
  },
  {
   "cell_type": "markdown",
   "id": "2d88f959",
   "metadata": {},
   "source": [
    "## Objectives\n",
    "- [ ] Understand rag fundamentals: indexing & chunking\n",
    "- [ ] Complete guided exercises (theory → code → evaluation)\n",
    "- [ ] Apply learning in a small project or lab\n",
    "- [ ] Reflect using self-assessment checklist"
   ]
  },
  {
   "cell_type": "markdown",
   "id": "4af5ece9",
   "metadata": {},
   "source": [
    "## Mini-Theory (Deep Dive)\n",
    "- Chunking strategies; embeddings; metadata & doc splitting\n",
    "- Vector DB trade-offs; FAISS vs Chroma basics"
   ]
  },
  {
   "cell_type": "markdown",
   "id": "7a4ed3b8",
   "metadata": {},
   "source": [
    "## Guided Exercises\n",
    "    The following exercises are structured to help you learn by doing. Each has **starter code**, **hints**, and **checks**."
   ]
  },
  {
   "cell_type": "code",
   "execution_count": null,
   "id": "488d97ac",
   "metadata": {},
   "outputs": [],
   "source": [
    "# Exercise: Tokenization or PEFT playground (choose)\n",
    "import torch\n",
    "def lora_update(W, A, B, alpha=1.0):\n",
    "    return W + alpha * (A @ B)\n",
    "W = torch.randn(64, 64); A = torch.randn(64, 4); B = torch.randn(4, 64)\n",
    "W_hat = lora_update(W, A, B, alpha=0.1)\n",
    "print(\"Delta norm:\", (W_hat - W).norm().item())\n",
    "# TODO: integrate into a tiny nn.Linear forward pass"
   ]
  },
  {
   "cell_type": "markdown",
   "id": "7f0dacf2",
   "metadata": {},
   "source": [
    "## Project Work\n",
    "- This week connects to: `projects/22-rag-system/README.md`\n",
    "- Implement the **Build** task described in the project README. Tie your notebook experiments into that code (e.g., import your module or save artifacts for the project).\n",
    "\n",
    "### Deliverable\n",
    "- A short write-up (5–10 bullets) on **what worked, what didn’t, and what you’ll try next**."
   ]
  },
  {
   "cell_type": "markdown",
   "id": "0514e91a",
   "metadata": {},
   "source": [
    "## Self-Assessment Checklist\n",
    "- [ ] I can explain the key concepts of **RAG Fundamentals: Indexing & Chunking** in my own words.\n",
    "- [ ] I completed the guided exercises and validated outputs.\n",
    "- [ ] I produced a small artifact (code, plot, or report) and linked it to the project.\n",
    "- [ ] I captured 3–5 learnings and 2 next steps.\n",
    "\n",
    "---\n",
    "**Tip:** Keep each week to ~10 hours: ~3h study, ~3h coding, ~3h project, ~1h reflection."
   ]
  }
 ],
 "metadata": {},
 "nbformat": 4,
 "nbformat_minor": 5
}
